{
  "cells": [
    {
      "cell_type": "markdown",
      "source": [
        "# Classification Income using PyTorch and Tensorflow\n",
        "## Importing libraries"
      ],
      "metadata": {
        "id": "--TbYuaTbXyb"
      }
    },
    {
      "cell_type": "code",
      "execution_count": null,
      "metadata": {
        "id": "K294DYfUbVg9"
      },
      "outputs": [],
      "source": [
        "import pandas as pd\n",
        "from sklearn.model_selection import train_test_split\n",
        "from sklearn.preprocessing import LabelEncoder, StandardScaler\n",
        "from sklearn.impute import SimpleImputer\n",
        "from imblearn.over_sampling import SMOTE\n",
        "from sklearn.metrics import accuracy_score, precision_score, recall_score, f1_score, roc_auc_score, roc_curve,  auc\n",
        "import matplotlib.pyplot as plt\n",
        "import torch\n",
        "import torch.nn as nn\n",
        "import torch.optim as optim\n",
        "import tensorflow as tf\n",
        "from tensorflow.keras.models import Sequential\n",
        "from tensorflow.keras.layers import Dense"
      ]
    },
    {
      "cell_type": "code",
      "execution_count": null,
      "metadata": {
        "id": "zezTVwAmbVhB",
        "outputId": "fea053a5-a9a3-48cf-abb0-bfed6bc96197"
      },
      "outputs": [
        {
          "data": {
            "text/html": [
              "<div>\n",
              "<style scoped>\n",
              "    .dataframe tbody tr th:only-of-type {\n",
              "        vertical-align: middle;\n",
              "    }\n",
              "\n",
              "    .dataframe tbody tr th {\n",
              "        vertical-align: top;\n",
              "    }\n",
              "\n",
              "    .dataframe thead th {\n",
              "        text-align: right;\n",
              "    }\n",
              "</style>\n",
              "<table border=\"1\" class=\"dataframe\">\n",
              "  <thead>\n",
              "    <tr style=\"text-align: right;\">\n",
              "      <th></th>\n",
              "      <th>age</th>\n",
              "      <th>workclass</th>\n",
              "      <th>fnlwgt</th>\n",
              "      <th>education</th>\n",
              "      <th>education-num</th>\n",
              "      <th>marital-status</th>\n",
              "      <th>occupation</th>\n",
              "      <th>relationship</th>\n",
              "      <th>race</th>\n",
              "      <th>sex</th>\n",
              "      <th>capital-gain</th>\n",
              "      <th>capital-loss</th>\n",
              "      <th>hours-per-week</th>\n",
              "      <th>native-country</th>\n",
              "      <th>income</th>\n",
              "    </tr>\n",
              "  </thead>\n",
              "  <tbody>\n",
              "    <tr>\n",
              "      <th>0</th>\n",
              "      <td>39</td>\n",
              "      <td>State-gov</td>\n",
              "      <td>77516</td>\n",
              "      <td>Bachelors</td>\n",
              "      <td>13</td>\n",
              "      <td>Never-married</td>\n",
              "      <td>Adm-clerical</td>\n",
              "      <td>Not-in-family</td>\n",
              "      <td>White</td>\n",
              "      <td>Male</td>\n",
              "      <td>2174</td>\n",
              "      <td>0</td>\n",
              "      <td>40</td>\n",
              "      <td>United-States</td>\n",
              "      <td>&lt;=50K</td>\n",
              "    </tr>\n",
              "    <tr>\n",
              "      <th>1</th>\n",
              "      <td>50</td>\n",
              "      <td>Self-emp-not-inc</td>\n",
              "      <td>83311</td>\n",
              "      <td>Bachelors</td>\n",
              "      <td>13</td>\n",
              "      <td>Married-civ-spouse</td>\n",
              "      <td>Exec-managerial</td>\n",
              "      <td>Husband</td>\n",
              "      <td>White</td>\n",
              "      <td>Male</td>\n",
              "      <td>0</td>\n",
              "      <td>0</td>\n",
              "      <td>13</td>\n",
              "      <td>United-States</td>\n",
              "      <td>&lt;=50K</td>\n",
              "    </tr>\n",
              "    <tr>\n",
              "      <th>2</th>\n",
              "      <td>38</td>\n",
              "      <td>Private</td>\n",
              "      <td>215646</td>\n",
              "      <td>HS-grad</td>\n",
              "      <td>9</td>\n",
              "      <td>Divorced</td>\n",
              "      <td>Handlers-cleaners</td>\n",
              "      <td>Not-in-family</td>\n",
              "      <td>White</td>\n",
              "      <td>Male</td>\n",
              "      <td>0</td>\n",
              "      <td>0</td>\n",
              "      <td>40</td>\n",
              "      <td>United-States</td>\n",
              "      <td>&lt;=50K</td>\n",
              "    </tr>\n",
              "    <tr>\n",
              "      <th>3</th>\n",
              "      <td>53</td>\n",
              "      <td>Private</td>\n",
              "      <td>234721</td>\n",
              "      <td>11th</td>\n",
              "      <td>7</td>\n",
              "      <td>Married-civ-spouse</td>\n",
              "      <td>Handlers-cleaners</td>\n",
              "      <td>Husband</td>\n",
              "      <td>Black</td>\n",
              "      <td>Male</td>\n",
              "      <td>0</td>\n",
              "      <td>0</td>\n",
              "      <td>40</td>\n",
              "      <td>United-States</td>\n",
              "      <td>&lt;=50K</td>\n",
              "    </tr>\n",
              "    <tr>\n",
              "      <th>4</th>\n",
              "      <td>28</td>\n",
              "      <td>Private</td>\n",
              "      <td>338409</td>\n",
              "      <td>Bachelors</td>\n",
              "      <td>13</td>\n",
              "      <td>Married-civ-spouse</td>\n",
              "      <td>Prof-specialty</td>\n",
              "      <td>Wife</td>\n",
              "      <td>Black</td>\n",
              "      <td>Female</td>\n",
              "      <td>0</td>\n",
              "      <td>0</td>\n",
              "      <td>40</td>\n",
              "      <td>Cuba</td>\n",
              "      <td>&lt;=50K</td>\n",
              "    </tr>\n",
              "    <tr>\n",
              "      <th>...</th>\n",
              "      <td>...</td>\n",
              "      <td>...</td>\n",
              "      <td>...</td>\n",
              "      <td>...</td>\n",
              "      <td>...</td>\n",
              "      <td>...</td>\n",
              "      <td>...</td>\n",
              "      <td>...</td>\n",
              "      <td>...</td>\n",
              "      <td>...</td>\n",
              "      <td>...</td>\n",
              "      <td>...</td>\n",
              "      <td>...</td>\n",
              "      <td>...</td>\n",
              "      <td>...</td>\n",
              "    </tr>\n",
              "    <tr>\n",
              "      <th>48837</th>\n",
              "      <td>39</td>\n",
              "      <td>Private</td>\n",
              "      <td>215419</td>\n",
              "      <td>Bachelors</td>\n",
              "      <td>13</td>\n",
              "      <td>Divorced</td>\n",
              "      <td>Prof-specialty</td>\n",
              "      <td>Not-in-family</td>\n",
              "      <td>White</td>\n",
              "      <td>Female</td>\n",
              "      <td>0</td>\n",
              "      <td>0</td>\n",
              "      <td>36</td>\n",
              "      <td>United-States</td>\n",
              "      <td>&lt;=50K.</td>\n",
              "    </tr>\n",
              "    <tr>\n",
              "      <th>48838</th>\n",
              "      <td>64</td>\n",
              "      <td>NaN</td>\n",
              "      <td>321403</td>\n",
              "      <td>HS-grad</td>\n",
              "      <td>9</td>\n",
              "      <td>Widowed</td>\n",
              "      <td>NaN</td>\n",
              "      <td>Other-relative</td>\n",
              "      <td>Black</td>\n",
              "      <td>Male</td>\n",
              "      <td>0</td>\n",
              "      <td>0</td>\n",
              "      <td>40</td>\n",
              "      <td>United-States</td>\n",
              "      <td>&lt;=50K.</td>\n",
              "    </tr>\n",
              "    <tr>\n",
              "      <th>48839</th>\n",
              "      <td>38</td>\n",
              "      <td>Private</td>\n",
              "      <td>374983</td>\n",
              "      <td>Bachelors</td>\n",
              "      <td>13</td>\n",
              "      <td>Married-civ-spouse</td>\n",
              "      <td>Prof-specialty</td>\n",
              "      <td>Husband</td>\n",
              "      <td>White</td>\n",
              "      <td>Male</td>\n",
              "      <td>0</td>\n",
              "      <td>0</td>\n",
              "      <td>50</td>\n",
              "      <td>United-States</td>\n",
              "      <td>&lt;=50K.</td>\n",
              "    </tr>\n",
              "    <tr>\n",
              "      <th>48840</th>\n",
              "      <td>44</td>\n",
              "      <td>Private</td>\n",
              "      <td>83891</td>\n",
              "      <td>Bachelors</td>\n",
              "      <td>13</td>\n",
              "      <td>Divorced</td>\n",
              "      <td>Adm-clerical</td>\n",
              "      <td>Own-child</td>\n",
              "      <td>Asian-Pac-Islander</td>\n",
              "      <td>Male</td>\n",
              "      <td>5455</td>\n",
              "      <td>0</td>\n",
              "      <td>40</td>\n",
              "      <td>United-States</td>\n",
              "      <td>&lt;=50K.</td>\n",
              "    </tr>\n",
              "    <tr>\n",
              "      <th>48841</th>\n",
              "      <td>35</td>\n",
              "      <td>Self-emp-inc</td>\n",
              "      <td>182148</td>\n",
              "      <td>Bachelors</td>\n",
              "      <td>13</td>\n",
              "      <td>Married-civ-spouse</td>\n",
              "      <td>Exec-managerial</td>\n",
              "      <td>Husband</td>\n",
              "      <td>White</td>\n",
              "      <td>Male</td>\n",
              "      <td>0</td>\n",
              "      <td>0</td>\n",
              "      <td>60</td>\n",
              "      <td>United-States</td>\n",
              "      <td>&gt;50K.</td>\n",
              "    </tr>\n",
              "  </tbody>\n",
              "</table>\n",
              "<p>48842 rows × 15 columns</p>\n",
              "</div>"
            ],
            "text/plain": [
              "       age         workclass  fnlwgt  education  education-num  \\\n",
              "0       39         State-gov   77516  Bachelors             13   \n",
              "1       50  Self-emp-not-inc   83311  Bachelors             13   \n",
              "2       38           Private  215646    HS-grad              9   \n",
              "3       53           Private  234721       11th              7   \n",
              "4       28           Private  338409  Bachelors             13   \n",
              "...    ...               ...     ...        ...            ...   \n",
              "48837   39           Private  215419  Bachelors             13   \n",
              "48838   64               NaN  321403    HS-grad              9   \n",
              "48839   38           Private  374983  Bachelors             13   \n",
              "48840   44           Private   83891  Bachelors             13   \n",
              "48841   35      Self-emp-inc  182148  Bachelors             13   \n",
              "\n",
              "           marital-status         occupation    relationship  \\\n",
              "0           Never-married       Adm-clerical   Not-in-family   \n",
              "1      Married-civ-spouse    Exec-managerial         Husband   \n",
              "2                Divorced  Handlers-cleaners   Not-in-family   \n",
              "3      Married-civ-spouse  Handlers-cleaners         Husband   \n",
              "4      Married-civ-spouse     Prof-specialty            Wife   \n",
              "...                   ...                ...             ...   \n",
              "48837            Divorced     Prof-specialty   Not-in-family   \n",
              "48838             Widowed                NaN  Other-relative   \n",
              "48839  Married-civ-spouse     Prof-specialty         Husband   \n",
              "48840            Divorced       Adm-clerical       Own-child   \n",
              "48841  Married-civ-spouse    Exec-managerial         Husband   \n",
              "\n",
              "                     race     sex  capital-gain  capital-loss  hours-per-week  \\\n",
              "0                   White    Male          2174             0              40   \n",
              "1                   White    Male             0             0              13   \n",
              "2                   White    Male             0             0              40   \n",
              "3                   Black    Male             0             0              40   \n",
              "4                   Black  Female             0             0              40   \n",
              "...                   ...     ...           ...           ...             ...   \n",
              "48837               White  Female             0             0              36   \n",
              "48838               Black    Male             0             0              40   \n",
              "48839               White    Male             0             0              50   \n",
              "48840  Asian-Pac-Islander    Male          5455             0              40   \n",
              "48841               White    Male             0             0              60   \n",
              "\n",
              "      native-country  income  \n",
              "0      United-States   <=50K  \n",
              "1      United-States   <=50K  \n",
              "2      United-States   <=50K  \n",
              "3      United-States   <=50K  \n",
              "4               Cuba   <=50K  \n",
              "...              ...     ...  \n",
              "48837  United-States  <=50K.  \n",
              "48838  United-States  <=50K.  \n",
              "48839  United-States  <=50K.  \n",
              "48840  United-States  <=50K.  \n",
              "48841  United-States   >50K.  \n",
              "\n",
              "[48842 rows x 15 columns]"
            ]
          },
          "execution_count": 274,
          "metadata": {},
          "output_type": "execute_result"
        }
      ],
      "source": [
        "# Load data\n",
        "data = pd.read_csv(\"income.csv\")\n",
        "data"
      ]
    },
    {
      "cell_type": "code",
      "execution_count": null,
      "metadata": {
        "id": "4lV98AQHbVhD"
      },
      "outputs": [],
      "source": [
        "\n",
        "# Handle missing values\n",
        "num_imputer = SimpleImputer(strategy='median')\n",
        "cat_imputer = SimpleImputer(strategy='most_frequent')\n",
        "\n",
        "for col in data.select_dtypes(include=['number']).columns:\n",
        "    data[col] = num_imputer.fit_transform(data[[col]]).ravel()  # Flatten the result\n",
        "\n",
        "for col in data.select_dtypes(include=['object']).columns:\n",
        "    data[col] = cat_imputer.fit_transform(data[[col]]).ravel()"
      ]
    },
    {
      "cell_type": "code",
      "execution_count": null,
      "metadata": {
        "id": "2D3v5feAbVhD"
      },
      "outputs": [],
      "source": [
        "# Ubah income jadi biner\n",
        "data['income'] = data['income'].replace({'<=50K': 0, '<=50K.' : 0, '>50K': 1,  '>50K.':1})\n"
      ]
    },
    {
      "cell_type": "code",
      "execution_count": null,
      "metadata": {
        "id": "a_t5hR7obVhE"
      },
      "outputs": [],
      "source": [
        "# Encode categorical features\n",
        "categorical_columns = ['workclass', 'education', 'marital-status', 'occupation', 'relationship', 'race', 'sex', 'native-country']\n",
        "encoder = LabelEncoder()\n",
        "for col in categorical_columns:\n",
        "    data[col] = encoder.fit_transform(data[col].astype(str))"
      ]
    },
    {
      "cell_type": "code",
      "execution_count": null,
      "metadata": {
        "id": "arengNQzbVhE"
      },
      "outputs": [],
      "source": [
        "# Split the data into features (X) and target (y)\n",
        "X = data.drop(columns=['income'])\n",
        "y = data['income']"
      ]
    },
    {
      "cell_type": "code",
      "execution_count": null,
      "metadata": {
        "id": "wVRDuD-lbVhF"
      },
      "outputs": [],
      "source": [
        "# Split into training and test sets\n",
        "X_train, X_test, y_train, y_test = train_test_split(X, y, test_size=0.2, random_state=42, stratify=y)\n"
      ]
    },
    {
      "cell_type": "code",
      "execution_count": null,
      "metadata": {
        "id": "6K1cv23qbVhF"
      },
      "outputs": [],
      "source": [
        "# Handle class imbalance with SMOTE\n",
        "smote = SMOTE(random_state=42)\n",
        "X_train, y_train = smote.fit_resample(X_train, y_train)"
      ]
    },
    {
      "cell_type": "code",
      "execution_count": null,
      "metadata": {
        "id": "Po4swDVObVhG"
      },
      "outputs": [],
      "source": [
        "# Standardize the data\n",
        "scaler = StandardScaler()\n",
        "X_train = scaler.fit_transform(X_train)\n",
        "X_test = scaler.transform(X_test)"
      ]
    },
    {
      "cell_type": "markdown",
      "metadata": {
        "id": "hNjfxGOgbVhG"
      },
      "source": [
        "## Model PyTorch"
      ]
    },
    {
      "cell_type": "code",
      "execution_count": null,
      "metadata": {
        "id": "DLS_DaccbVhI"
      },
      "outputs": [],
      "source": [
        "# Define a simple neural network with Batch Normalization and Dropout\n",
        "class NeuralNetwork(nn.Module):\n",
        "    def __init__(self, input_dim):\n",
        "        super(NeuralNetwork, self).__init__()\n",
        "        self.fc1 = nn.Linear(input_dim, 128)\n",
        "        self.bn1 = nn.BatchNorm1d(128)  # Batch Normalization\n",
        "        self.dropout1 = nn.Dropout(0.2)  # Dropout Layer\n",
        "\n",
        "        self.fc2 = nn.Linear(128, 64)\n",
        "        self.bn2 = nn.BatchNorm1d(64)  # Batch Normalization\n",
        "        self.dropout2 = nn.Dropout(0.2)  # Dropout Layer\n",
        "\n",
        "        self.fc3 = nn.Linear(64, 1)\n",
        "        self.sigmoid = nn.Sigmoid()\n",
        "\n",
        "    def forward(self, x):\n",
        "        x = torch.relu(self.bn1(self.fc1(x)))  # Apply Batch Norm and ReLU\n",
        "        x = self.dropout1(x)  # Apply Dropout\n",
        "\n",
        "        x = torch.relu(self.bn2(self.fc2(x)))  # Apply Batch Norm and ReLU\n",
        "        x = self.dropout2(x)  # Apply Dropout\n",
        "\n",
        "        x = self.fc3(x)\n",
        "        return self.sigmoid(x)"
      ]
    },
    {
      "cell_type": "code",
      "execution_count": null,
      "metadata": {
        "id": "5sBDtpqkbVhI"
      },
      "outputs": [],
      "source": [
        "# Convert the data to torch tensors\n",
        "X_train_tensor = torch.tensor(X_train, dtype=torch.float32)\n",
        "y_train_tensor = torch.tensor(y_train.values, dtype=torch.float32).view(-1, 1)\n",
        "X_test_tensor = torch.tensor(X_test, dtype=torch.float32)\n",
        "y_test_tensor = torch.tensor(y_test.values, dtype=torch.float32).view(-1, 1)\n"
      ]
    },
    {
      "cell_type": "code",
      "execution_count": null,
      "metadata": {
        "id": "NexTfvM-bVhI"
      },
      "outputs": [],
      "source": [
        "# Initialize the model, loss function, and optimizer\n",
        "model = NeuralNetwork(input_dim=X_train.shape[1])\n",
        "criterion = nn.BCELoss()\n",
        "optimizer = optim.Adam(model.parameters(), lr=0.001)"
      ]
    },
    {
      "cell_type": "code",
      "execution_count": null,
      "metadata": {
        "id": "XaNH7OXNbVhJ"
      },
      "outputs": [],
      "source": [
        "# Train the model\n",
        "epochs = 10\n",
        "for epoch in range(epochs):\n",
        "    model.train()\n",
        "    optimizer.zero_grad()\n",
        "    outputs = model(X_train_tensor)\n",
        "    loss = criterion(outputs, y_train_tensor)\n",
        "    loss.backward()\n",
        "    optimizer.step()\n",
        "    if (epoch + 1) % 1 == 100:\n",
        "        print(f'Epoch [{epoch+1}/{epochs}], Loss: {loss.item():.4f}')"
      ]
    },
    {
      "cell_type": "code",
      "execution_count": null,
      "metadata": {
        "id": "bSTwbVGZbVhJ"
      },
      "outputs": [],
      "source": [
        "# Evaluate the model\n",
        "model.eval()\n",
        "with torch.no_grad():\n",
        "    y_pred_prob = model(X_test_tensor).numpy()\n",
        "    y_pred = (y_pred_prob >= 0.5).astype(int)\n"
      ]
    },
    {
      "cell_type": "code",
      "execution_count": null,
      "metadata": {
        "id": "JPagcC_SbVhJ"
      },
      "outputs": [],
      "source": [
        "# Metrics evaluation for PyTorch\n",
        "accuracy_pytorch = accuracy_score(y_test, y_pred)\n",
        "precision_pytorch = precision_score(y_test, y_pred)\n",
        "recall_pytorch = recall_score(y_test, y_pred)\n",
        "f1_pytorch = f1_score(y_test, y_pred)\n",
        "auc_pytorch = roc_auc_score(y_test, y_pred_prob)"
      ]
    },
    {
      "cell_type": "code",
      "execution_count": null,
      "metadata": {
        "id": "GjlxnwBabVhJ",
        "outputId": "0ec80974-7cbd-4b4e-bf3a-b17c5160e10e"
      },
      "outputs": [
        {
          "name": "stdout",
          "output_type": "stream",
          "text": [
            "PyTorch Accuracy: 0.7539\n",
            "PyTorch Precision: 0.4908\n",
            "PyTorch Recall: 0.7528\n",
            "PyTorch F1 Score: 0.5942\n",
            "PyTorch AUC: 0.8388\n"
          ]
        }
      ],
      "source": [
        "# Print metrics for PyTorch\n",
        "print(f'PyTorch Accuracy: {accuracy_pytorch:.4f}')\n",
        "print(f'PyTorch Precision: {precision_pytorch:.4f}')\n",
        "print(f'PyTorch Recall: {recall_pytorch:.4f}')\n",
        "print(f'PyTorch F1 Score: {f1_pytorch:.4f}')\n",
        "print(f'PyTorch AUC: {auc_pytorch:.4f}')"
      ]
    },
    {
      "cell_type": "code",
      "execution_count": null,
      "metadata": {
        "id": "Ts2JOQgrbVhJ"
      },
      "outputs": [],
      "source": [
        "\n",
        "# Evaluate the model on the test set\n",
        "model.eval()\n",
        "with torch.no_grad():\n",
        "    # Get the predicted probabilities\n",
        "    y_pred_prob = model(X_test_tensor).numpy()"
      ]
    },
    {
      "cell_type": "code",
      "execution_count": null,
      "metadata": {
        "id": "Uv5MzzDHbVhK"
      },
      "outputs": [],
      "source": [
        "# Compute ROC curve\n",
        "fpr, tpr, thresholds = roc_curve(y_test, y_pred_prob)\n",
        "roc_auc = roc_auc_score(y_test, y_pred_prob)"
      ]
    },
    {
      "cell_type": "code",
      "execution_count": null,
      "metadata": {
        "id": "H5eaaKe3bVhK",
        "outputId": "c3eb7553-f02b-4093-99a4-bcbf68bf638f"
      },
      "outputs": [
        {
          "data": {
            "image/png": "[encoded data removed]",
            "text/plain": [
              "<Figure size 600x500 with 1 Axes>"
            ]
          },
          "metadata": {},
          "output_type": "display_data"
        }
      ],
      "source": [
        "# Plot ROC curve\n",
        "plt.figure(figsize=(6, 5))\n",
        "plt.plot(fpr, tpr, color='blue', label=f'ROC curve (AUC = {roc_auc:.2f})')\n",
        "plt.plot([0, 1], [0, 1], color='gray', linestyle='--')  # Diagonal line (random classifier)\n",
        "plt.xlabel('False Positive Rate')\n",
        "plt.ylabel('True Positive Rate')\n",
        "plt.title('ROC Curve (PyTorch Model)')\n",
        "plt.legend(loc='lower right')\n",
        "plt.show()"
      ]
    },
    {
      "cell_type": "markdown",
      "metadata": {
        "id": "fyYKEb86bVhK"
      },
      "source": [
        "## Model TensorFlow"
      ]
    },
    {
      "cell_type": "code",
      "execution_count": null,
      "metadata": {
        "id": "Nd8iGI86bVhK"
      },
      "outputs": [],
      "source": [
        "# Define a simple neural network for TensorFlow\n",
        "def build_model(input_dim):\n",
        "    model = Sequential()\n",
        "    model.add(Dense(128, input_dim=input_dim, activation='relu'))\n",
        "    model.add(Dense(64, activation='relu'))\n",
        "    model.add(Dense(1, activation='sigmoid'))\n",
        "    model.compile(optimizer='adam', loss='binary_crossentropy', metrics=['accuracy'])\n",
        "    return model"
      ]
    },
    {
      "cell_type": "code",
      "execution_count": null,
      "metadata": {
        "id": "SZuYvnB4bVhK",
        "outputId": "b22ca10f-6bb7-4c2f-b0ad-6156053791ae"
      },
      "outputs": [
        {
          "name": "stderr",
          "output_type": "stream",
          "text": [
            "C:\\Users\\Lenovo\\AppData\\Local\\Packages\\PythonSoftwareFoundation.Python.3.11_qbz5n2kfra8p0\\LocalCache\\local-packages\\Python311\\site-packages\\keras\\src\\layers\\core\\dense.py:87: UserWarning: Do not pass an `input_shape`/`input_dim` argument to a layer. When using Sequential models, prefer using an `Input(shape)` object as the first layer in the model instead.\n",
            "  super().__init__(activity_regularizer=activity_regularizer, **kwargs)\n"
          ]
        }
      ],
      "source": [
        "# Initialize the model\n",
        "model_tf = build_model(X_train.shape[1])"
      ]
    },
    {
      "cell_type": "code",
      "execution_count": null,
      "metadata": {
        "id": "AiCghRu6bVhL",
        "outputId": "22acb078-d3d0-4a22-e4b7-4c41cd7229a1"
      },
      "outputs": [
        {
          "name": "stdout",
          "output_type": "stream",
          "text": [
            "Epoch 1/10\n",
            "\u001b[1m1858/1858\u001b[0m \u001b[32m━━━━━━━━━━━━━━━━━━━━\u001b[0m\u001b[37m\u001b[0m \u001b[1m3s\u001b[0m 1ms/step - accuracy: 0.8159 - loss: 0.3971\n",
            "Epoch 2/10\n",
            "\u001b[1m1858/1858\u001b[0m \u001b[32m━━━━━━━━━━━━━━━━━━━━\u001b[0m\u001b[37m\u001b[0m \u001b[1m2s\u001b[0m 1ms/step - accuracy: 0.8535 - loss: 0.3255\n",
            "Epoch 3/10\n",
            "\u001b[1m1858/1858\u001b[0m \u001b[32m━━━━━━━━━━━━━━━━━━━━\u001b[0m\u001b[37m\u001b[0m \u001b[1m2s\u001b[0m 1ms/step - accuracy: 0.8607 - loss: 0.3102\n",
            "Epoch 4/10\n",
            "\u001b[1m1858/1858\u001b[0m \u001b[32m━━━━━━━━━━━━━━━━━━━━\u001b[0m\u001b[37m\u001b[0m \u001b[1m2s\u001b[0m 1ms/step - accuracy: 0.8639 - loss: 0.2992\n",
            "Epoch 5/10\n",
            "\u001b[1m1858/1858\u001b[0m \u001b[32m━━━━━━━━━━━━━━━━━━━━\u001b[0m\u001b[37m\u001b[0m \u001b[1m3s\u001b[0m 2ms/step - accuracy: 0.8649 - loss: 0.2931\n",
            "Epoch 6/10\n",
            "\u001b[1m1858/1858\u001b[0m \u001b[32m━━━━━━━━━━━━━━━━━━━━\u001b[0m\u001b[37m\u001b[0m \u001b[1m3s\u001b[0m 1ms/step - accuracy: 0.8703 - loss: 0.2855\n",
            "Epoch 7/10\n",
            "\u001b[1m1858/1858\u001b[0m \u001b[32m━━━━━━━━━━━━━━━━━━━━\u001b[0m\u001b[37m\u001b[0m \u001b[1m3s\u001b[0m 1ms/step - accuracy: 0.8726 - loss: 0.2802\n",
            "Epoch 8/10\n",
            "\u001b[1m1858/1858\u001b[0m \u001b[32m━━━━━━━━━━━━━━━━━━━━\u001b[0m\u001b[37m\u001b[0m \u001b[1m3s\u001b[0m 2ms/step - accuracy: 0.8763 - loss: 0.2694\n",
            "Epoch 9/10\n",
            "\u001b[1m1858/1858\u001b[0m \u001b[32m━━━━━━━━━━━━━━━━━━━━\u001b[0m\u001b[37m\u001b[0m \u001b[1m3s\u001b[0m 2ms/step - accuracy: 0.8750 - loss: 0.2737\n",
            "Epoch 10/10\n",
            "\u001b[1m1858/1858\u001b[0m \u001b[32m━━━━━━━━━━━━━━━━━━━━\u001b[0m\u001b[37m\u001b[0m \u001b[1m3s\u001b[0m 2ms/step - accuracy: 0.8767 - loss: 0.2673\n"
          ]
        },
        {
          "data": {
            "text/plain": [
              "<keras.src.callbacks.history.History at 0x18d2ec85d50>"
            ]
          },
          "execution_count": 294,
          "metadata": {},
          "output_type": "execute_result"
        }
      ],
      "source": [
        "# Train the model\n",
        "model_tf.fit(X_train, y_train, epochs=10, batch_size=32, verbose=1)"
      ]
    },
    {
      "cell_type": "code",
      "execution_count": null,
      "metadata": {
        "id": "IvJpz04tbVhL",
        "outputId": "474dcb99-4c70-4a57-f2e7-5e25687f369f"
      },
      "outputs": [
        {
          "name": "stdout",
          "output_type": "stream",
          "text": [
            "\u001b[1m306/306\u001b[0m \u001b[32m━━━━━━━━━━━━━━━━━━━━\u001b[0m\u001b[37m\u001b[0m \u001b[1m0s\u001b[0m 938us/step\n"
          ]
        }
      ],
      "source": [
        "# Evaluate the model\n",
        "y_pred_prob_tf = model_tf.predict(X_test)\n",
        "y_pred_tf = (y_pred_prob_tf >= 0.5).astype(int)"
      ]
    },
    {
      "cell_type": "code",
      "execution_count": null,
      "metadata": {
        "id": "BR7maHz6bVhL"
      },
      "outputs": [],
      "source": [
        "# Metrics evaluation for TensorFlow\n",
        "accuracy_tf = accuracy_score(y_test, y_pred_tf)\n",
        "precision_tf = precision_score(y_test, y_pred_tf)\n",
        "recall_tf = recall_score(y_test, y_pred_tf)\n",
        "f1_tf = f1_score(y_test, y_pred_tf)\n",
        "auc_value = roc_auc_score(y_test, y_pred_prob)"
      ]
    },
    {
      "cell_type": "code",
      "execution_count": null,
      "metadata": {
        "id": "kzP7iUwMbVhL",
        "outputId": "94dca2f5-880c-4ba5-f5b4-d4e2758af65a"
      },
      "outputs": [
        {
          "name": "stdout",
          "output_type": "stream",
          "text": [
            "TensorFlow Accuracy: 0.8357\n",
            "TensorFlow Precision: 0.6458\n",
            "TensorFlow Recall: 0.6942\n",
            "TensorFlow F1 Score: 0.6691\n",
            "TensorFlow AUC: 0.8388\n"
          ]
        }
      ],
      "source": [
        "# Print metrics for TensorFlow\n",
        "print(f'TensorFlow Accuracy: {accuracy_tf:.4f}')\n",
        "print(f'TensorFlow Precision: {precision_tf:.4f}')\n",
        "print(f'TensorFlow Recall: {recall_tf:.4f}')\n",
        "print(f'TensorFlow F1 Score: {f1_tf:.4f}')\n",
        "print(f'TensorFlow AUC: {auc_value:.4f}')"
      ]
    },
    {
      "cell_type": "code",
      "execution_count": null,
      "metadata": {
        "id": "FbsnXdkIbVhM"
      },
      "outputs": [],
      "source": [
        "\n",
        "# Compute ROC curve and AUC for visualization\n",
        "fpr, tpr, thresholds = roc_curve(y_test, y_pred_prob)\n",
        "roc_auc = auc  # Already calculated"
      ]
    },
    {
      "cell_type": "code",
      "execution_count": null,
      "metadata": {
        "id": "5N2bTwafbVhM",
        "outputId": "c361da7e-d197-49ac-e5b0-e4aa5c85b7a0"
      },
      "outputs": [
        {
          "data": {
            "image/png": "[encoded data removed]",
            "text/plain": [
              "<Figure size 600x500 with 1 Axes>"
            ]
          },
          "metadata": {},
          "output_type": "display_data"
        }
      ],
      "source": [
        "\n",
        "# Plot ROC curve\n",
        "plt.figure(figsize=(6, 5))\n",
        "plt.plot(fpr, tpr, color='blue', label=f'ROC curve (AUC = {auc_value:.2f})')\n",
        "plt.plot([0, 1], [0, 1], color='gray', linestyle='--')  # Diagonal line (random classifier)\n",
        "plt.xlabel('False Positive Rate')\n",
        "plt.ylabel('True Positive Rate')\n",
        "plt.title('ROC Curve (TensorFlow Model)')\n",
        "plt.legend(loc='lower right')\n",
        "plt.show()"
      ]
    },
    {
      "cell_type": "code",
      "execution_count": null,
      "metadata": {
        "id": "D9zFbCvQbVhM",
        "outputId": "a15ccc66-56cd-453b-e5af-90cb461c8d02"
      },
      "outputs": [
        {
          "data": {
            "image/png": "[encoded data removed]",
            "text/plain": [
              "<Figure size 600x500 with 1 Axes>"
            ]
          },
          "metadata": {},
          "output_type": "display_data"
        }
      ],
      "source": [
        "# Plot ROC curve for both models\n",
        "fpr_pytorch, tpr_pytorch, _ = roc_curve(y_test, y_pred_prob)\n",
        "fpr_tf, tpr_tf, _ = roc_curve(y_test, y_pred_prob_tf)\n",
        "\n",
        "plt.figure(figsize=(6, 5))\n",
        "plt.plot(fpr_pytorch, tpr_pytorch, color='blue', label='PyTorch ROC curve ' % auc_pytorch)\n",
        "plt.plot(fpr_tf, tpr_tf, color='red', label='TensorFlow ROC curve' % auc_value)\n",
        "plt.plot([0, 1], [0, 1], color='gray', linestyle='--')\n",
        "plt.xlabel('False Positive Rate')\n",
        "plt.ylabel('True Positive Rate')\n",
        "plt.title('ROC Curve Comparison')\n",
        "plt.legend(loc='lower right')\n",
        "plt.show()"
      ]
    },
    {
      "cell_type": "markdown",
      "metadata": {
        "id": "KqpzObk6bVhN"
      },
      "source": [
        "## Perbandingan Metrik Evaluasi antara Model PyTorch dan TensorFlow\n",
        "\n",
        "### 1. **Accuracy (Akurasi)**\n",
        "- **PyTorch**: 0.7786\n",
        "- **TensorFlow**: 0.8379\n",
        "\n",
        "**Penjelasan**: Model **TensorFlow** memiliki akurasi lebih tinggi (0.8379) dibandingkan model **PyTorch** (0.7786). Ini berarti model TensorFlow secara keseluruhan lebih banyak memprediksi dengan benar dibandingkan model PyTorch.\n",
        "\n",
        "### 2. **Precision (Presisi)**\n",
        "- **PyTorch**: 0.5288\n",
        "- **TensorFlow**: 0.6536\n",
        "\n",
        "**Penjelasan**: **TensorFlow** juga unggul dalam hal presisi, yaitu 0.6536. Artinya, dari semua prediksi yang dianggap positif oleh model TensorFlow, sekitar 65.36% benar-benar positif. Sementara **PyTorch** memiliki presisi yang lebih rendah (0.5288), yang berarti model ini memiliki lebih banyak kesalahan dalam memprediksi kelas positif.\n",
        "\n",
        "### 3. **Recall (Sensitivitas)**\n",
        "- **PyTorch**: 0.6865\n",
        "- **TensorFlow**: 0.6861\n",
        "\n",
        "**Penjelasan**: **PyTorch** sedikit lebih baik dalam hal recall (0.6865) dibandingkan dengan **TensorFlow** (0.6861). Recall yang lebih tinggi berarti **PyTorch** sedikit lebih baik dalam mendeteksi kelas positif, meskipun kedua model memiliki nilai recall yang sangat mirip.\n",
        "\n",
        "### 4. **F1-Score**\n",
        "- **PyTorch**: 0.5974\n",
        "- **TensorFlow**: 0.6694\n",
        "\n",
        "**Penjelasan**: **TensorFlow** memiliki F1-Score yang lebih tinggi (0.6694) dibandingkan dengan **PyTorch** (0.5974). F1-Score menggabungkan presisi dan recall, jadi nilai yang lebih tinggi menunjukkan bahwa **TensorFlow** memiliki keseimbangan yang lebih baik antara presisi dan recall.\n",
        "\n",
        "### 5. **AUC (Area Under the Curve)**\n",
        "- **PyTorch**: 0.8319\n",
        "- **TensorFlow**: 0.8319\n",
        "\n",
        "**Penjelasan**: Kedua model memiliki nilai AUC yang sama, yaitu **0.8319**. Ini menunjukkan bahwa baik **PyTorch** maupun **TensorFlow** memiliki kemampuan yang serupa dalam membedakan antara kelas positif dan negatif. AUC yang mendekati 1 menunjukkan model yang dapat memisahkan kelas dengan baik.\n",
        "\n",
        "---\n",
        "\n",
        "### **Ringkasan Perbandingan**:\n",
        "| Metrik               | **PyTorch** | **TensorFlow** |\n",
        "|----------------------|-------------|----------------|\n",
        "| **Accuracy**          | 0.7786      | 0.8379         |\n",
        "| **Precision**         | 0.5288      | 0.6536         |\n",
        "| **Recall**            | 0.6865      | 0.6861         |\n",
        "| **F1-Score**          | 0.5974      | 0.6694         |\n",
        "| **AUC**               | 0.8319      | 0.8319         |\n"
      ]
    },
    {
      "cell_type": "markdown",
      "metadata": {
        "id": "62oj5FQmbVhN"
      },
      "source": [
        "## Penjelasan Persamaan Matematika\n",
        "### 1. **Accuracy (Akurasi):**\n",
        "   \n",
        "*Rumus:*\n",
        "$$\n",
        "\\text{Akurasi} = \\frac{TP + TN}{TP + TN + FP + FN}\n",
        "$$\n",
        "*Keterangan:*\n",
        "- \\(TP\\) = True Positives (Prediksi positif yang benar)\n",
        "- \\(TN\\) = True Negatives (Prediksi negatif yang benar)\n",
        "- \\(FP\\) = False Positives (Prediksi positif yang salah)\n",
        "- \\(FN\\) = False Negatives (Prediksi negatif yang salah)\n",
        "\n",
        "\n",
        "### 2. **Precision (Presisi)**\n",
        "\n",
        "Presisi mengukur ketepatan prediksi positif, yaitu seberapa banyak dari semua prediksi positif yang benar-benar positif.\n",
        "\n",
        "Rumusnya adalah:\n",
        "\n",
        "$$\n",
        "\\text{Presisi} = \\frac{TP}{TP + FP}\n",
        "$$\n",
        "\n",
        "### 3. **Recall (Sensitivitas)**\n",
        "\n",
        "Recall mengukur seberapa banyak kasus positif yang berhasil diprediksi dengan benar, atau sensitivitas model terhadap kelas positif.\n",
        "\n",
        "Rumusnya adalah:\n",
        "\n",
        "$$\n",
        "\\text{Recall} = \\frac{TP}{TP + FN}\n",
        "$$\n",
        "\n",
        "### 4. **F1-Score**\n",
        "\n",
        "F1-Score adalah ukuran yang menggabungkan precision dan recall menjadi satu nilai yang harmonis. Ini sangat berguna ketika ada ketidakseimbangan antara kelas positif dan negatif.\n",
        "\n",
        "Rumusnya adalah:\n",
        "\n",
        "$$\n",
        "\\text{F1-Score} = 2 \\times \\frac{\\text{Presisi} \\times \\text{Recall}}{\\text{Presisi} + \\text{Recall}}\n",
        "$$\n",
        "\n",
        "### 5. **AUC (Area Under the Curve)**\n",
        "\n",
        "AUC mengukur area di bawah kurva ROC dan menunjukkan seberapa baik model memisahkan kelas positif dan negatif. AUC berkisar antara 0 hingga 1, dengan nilai mendekati 1 menunjukkan model yang lebih baik.\n",
        "\n",
        "### 6. **ROC Curve**\n",
        "\n",
        "ROC Curve memplotkan **True Positive Rate (TPR)** terhadap **False Positive Rate (FPR)** pada berbagai threshold, memberikan gambaran kinerja model pada berbagai nilai batas keputusan.\n",
        "\n",
        "Rumus untuk TPR dan FPR adalah:\n",
        "\n",
        "$$\n",
        "\\text{True Positive Rate (TPR)} = \\frac{TP}{TP + FN}\n",
        "$$\n",
        "\n",
        "$$\n",
        "\\text{False Positive Rate (FPR)} = \\frac{FP}{FP + TN}\n",
        "$$\n",
        "\n",
        "\n",
        "​"
      ]
    },
    {
      "cell_type": "markdown",
      "metadata": {
        "id": "pOZvE8A5bVhO"
      },
      "source": [
        "### **Kesimpulan**:\n",
        "- **TensorFlow** unggul dalam **Akurasi**, **Presisi**, dan **F1-Score**, yang menunjukkan bahwa model TensorFlow lebih baik dalam memprediksi secara keseluruhan dan dalam mengoptimalkan antara presisi dan recall.\n",
        "- **PyTorch** sedikit lebih baik dalam **Recall**, yang menunjukkan bahwa model ini sedikit lebih sensitif dalam mendeteksi kelas positif.\n",
        "- Kedua model memiliki nilai **AUC** yang sama, yang menunjukkan kemampuan yang setara dalam membedakan antara kelas positif dan negatif.\n"
      ]
    }
  ],
  "metadata": {
    "kernelspec": {
      "display_name": "Python 3",
      "language": "python",
      "name": "python3"
    },
    "language_info": {
      "codemirror_mode": {
        "name": "ipython",
        "version": 3
      },
      "file_extension": ".py",
      "mimetype": "text/x-python",
      "name": "python",
      "nbconvert_exporter": "python",
      "pygments_lexer": "ipython3",
      "version": "3.11.9"
    },
    "colab": {
      "provenance": []
    }
  },
  "nbformat": 4,
  "nbformat_minor": 0
}