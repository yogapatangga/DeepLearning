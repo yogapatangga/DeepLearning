{
  "cells": [
    {
      "cell_type": "markdown",
      "source": [
        "# Classification Covert using MLP\n",
        "## Importing libraries"
      ],
      "metadata": {
        "id": "tZLkPkT0c4aq"
      }
    },
    {
      "cell_type": "code",
      "execution_count": null,
      "metadata": {
        "id": "WS4_Nxrlc23h"
      },
      "outputs": [],
      "source": [
        "import numpy as np\n",
        "import pandas as pd\n",
        "import torch\n",
        "import torch.nn as nn\n",
        "import torch.optim as optim\n",
        "from torch.utils.data import DataLoader, TensorDataset, random_split\n",
        "from sklearn.preprocessing import StandardScaler\n",
        "from sklearn.model_selection import train_test_split\n",
        "from sklearn.metrics import accuracy_score, precision_score, recall_score, f1_score, roc_auc_score, roc_curve\n",
        "import tensorflow as tf\n",
        "from tensorflow import keras\n",
        "import matplotlib.pyplot as plt\n"
      ]
    },
    {
      "cell_type": "code",
      "execution_count": null,
      "metadata": {
        "id": "8OY-znboc23m",
        "outputId": "b6089789-84f4-46b5-cf46-8a5a47267ce8"
      },
      "outputs": [
        {
          "data": {
            "text/html": [
              "<div>\n",
              "<style scoped>\n",
              "    .dataframe tbody tr th:only-of-type {\n",
              "        vertical-align: middle;\n",
              "    }\n",
              "\n",
              "    .dataframe tbody tr th {\n",
              "        vertical-align: top;\n",
              "    }\n",
              "\n",
              "    .dataframe thead th {\n",
              "        text-align: right;\n",
              "    }\n",
              "</style>\n",
              "<table border=\"1\" class=\"dataframe\">\n",
              "  <thead>\n",
              "    <tr style=\"text-align: right;\">\n",
              "      <th></th>\n",
              "      <th>Elevation</th>\n",
              "      <th>Aspect</th>\n",
              "      <th>Slope</th>\n",
              "      <th>Horizontal_Distance_To_Hydrology</th>\n",
              "      <th>Vertical_Distance_To_Hydrology</th>\n",
              "      <th>Horizontal_Distance_To_Roadways</th>\n",
              "      <th>Hillshade_9am</th>\n",
              "      <th>Hillshade_Noon</th>\n",
              "      <th>Hillshade_3pm</th>\n",
              "      <th>Horizontal_Distance_To_Fire_Points</th>\n",
              "      <th>...</th>\n",
              "      <th>Soil_Type35</th>\n",
              "      <th>Soil_Type36</th>\n",
              "      <th>Soil_Type37</th>\n",
              "      <th>Soil_Type38</th>\n",
              "      <th>Soil_Type39</th>\n",
              "      <th>Soil_Type40</th>\n",
              "      <th>Wilderness_Area2</th>\n",
              "      <th>Wilderness_Area3</th>\n",
              "      <th>Wilderness_Area4</th>\n",
              "      <th>Cover_Type</th>\n",
              "    </tr>\n",
              "  </thead>\n",
              "  <tbody>\n",
              "    <tr>\n",
              "      <th>0</th>\n",
              "      <td>2596</td>\n",
              "      <td>51</td>\n",
              "      <td>3</td>\n",
              "      <td>258</td>\n",
              "      <td>0</td>\n",
              "      <td>510</td>\n",
              "      <td>221</td>\n",
              "      <td>232</td>\n",
              "      <td>148</td>\n",
              "      <td>6279</td>\n",
              "      <td>...</td>\n",
              "      <td>0</td>\n",
              "      <td>0</td>\n",
              "      <td>0</td>\n",
              "      <td>0</td>\n",
              "      <td>0</td>\n",
              "      <td>0</td>\n",
              "      <td>0</td>\n",
              "      <td>0</td>\n",
              "      <td>0</td>\n",
              "      <td>5</td>\n",
              "    </tr>\n",
              "    <tr>\n",
              "      <th>1</th>\n",
              "      <td>2590</td>\n",
              "      <td>56</td>\n",
              "      <td>2</td>\n",
              "      <td>212</td>\n",
              "      <td>-6</td>\n",
              "      <td>390</td>\n",
              "      <td>220</td>\n",
              "      <td>235</td>\n",
              "      <td>151</td>\n",
              "      <td>6225</td>\n",
              "      <td>...</td>\n",
              "      <td>0</td>\n",
              "      <td>0</td>\n",
              "      <td>0</td>\n",
              "      <td>0</td>\n",
              "      <td>0</td>\n",
              "      <td>0</td>\n",
              "      <td>0</td>\n",
              "      <td>0</td>\n",
              "      <td>0</td>\n",
              "      <td>5</td>\n",
              "    </tr>\n",
              "    <tr>\n",
              "      <th>2</th>\n",
              "      <td>2804</td>\n",
              "      <td>139</td>\n",
              "      <td>9</td>\n",
              "      <td>268</td>\n",
              "      <td>65</td>\n",
              "      <td>3180</td>\n",
              "      <td>234</td>\n",
              "      <td>238</td>\n",
              "      <td>135</td>\n",
              "      <td>6121</td>\n",
              "      <td>...</td>\n",
              "      <td>0</td>\n",
              "      <td>0</td>\n",
              "      <td>0</td>\n",
              "      <td>0</td>\n",
              "      <td>0</td>\n",
              "      <td>0</td>\n",
              "      <td>0</td>\n",
              "      <td>0</td>\n",
              "      <td>0</td>\n",
              "      <td>2</td>\n",
              "    </tr>\n",
              "    <tr>\n",
              "      <th>3</th>\n",
              "      <td>2785</td>\n",
              "      <td>155</td>\n",
              "      <td>18</td>\n",
              "      <td>242</td>\n",
              "      <td>118</td>\n",
              "      <td>3090</td>\n",
              "      <td>238</td>\n",
              "      <td>238</td>\n",
              "      <td>122</td>\n",
              "      <td>6211</td>\n",
              "      <td>...</td>\n",
              "      <td>0</td>\n",
              "      <td>0</td>\n",
              "      <td>0</td>\n",
              "      <td>0</td>\n",
              "      <td>0</td>\n",
              "      <td>0</td>\n",
              "      <td>0</td>\n",
              "      <td>0</td>\n",
              "      <td>0</td>\n",
              "      <td>2</td>\n",
              "    </tr>\n",
              "    <tr>\n",
              "      <th>4</th>\n",
              "      <td>2595</td>\n",
              "      <td>45</td>\n",
              "      <td>2</td>\n",
              "      <td>153</td>\n",
              "      <td>-1</td>\n",
              "      <td>391</td>\n",
              "      <td>220</td>\n",
              "      <td>234</td>\n",
              "      <td>150</td>\n",
              "      <td>6172</td>\n",
              "      <td>...</td>\n",
              "      <td>0</td>\n",
              "      <td>0</td>\n",
              "      <td>0</td>\n",
              "      <td>0</td>\n",
              "      <td>0</td>\n",
              "      <td>0</td>\n",
              "      <td>0</td>\n",
              "      <td>0</td>\n",
              "      <td>0</td>\n",
              "      <td>5</td>\n",
              "    </tr>\n",
              "    <tr>\n",
              "      <th>...</th>\n",
              "      <td>...</td>\n",
              "      <td>...</td>\n",
              "      <td>...</td>\n",
              "      <td>...</td>\n",
              "      <td>...</td>\n",
              "      <td>...</td>\n",
              "      <td>...</td>\n",
              "      <td>...</td>\n",
              "      <td>...</td>\n",
              "      <td>...</td>\n",
              "      <td>...</td>\n",
              "      <td>...</td>\n",
              "      <td>...</td>\n",
              "      <td>...</td>\n",
              "      <td>...</td>\n",
              "      <td>...</td>\n",
              "      <td>...</td>\n",
              "      <td>...</td>\n",
              "      <td>...</td>\n",
              "      <td>...</td>\n",
              "      <td>...</td>\n",
              "    </tr>\n",
              "    <tr>\n",
              "      <th>581007</th>\n",
              "      <td>2396</td>\n",
              "      <td>153</td>\n",
              "      <td>20</td>\n",
              "      <td>85</td>\n",
              "      <td>17</td>\n",
              "      <td>108</td>\n",
              "      <td>240</td>\n",
              "      <td>237</td>\n",
              "      <td>118</td>\n",
              "      <td>837</td>\n",
              "      <td>...</td>\n",
              "      <td>0</td>\n",
              "      <td>0</td>\n",
              "      <td>0</td>\n",
              "      <td>0</td>\n",
              "      <td>0</td>\n",
              "      <td>0</td>\n",
              "      <td>0</td>\n",
              "      <td>1</td>\n",
              "      <td>0</td>\n",
              "      <td>3</td>\n",
              "    </tr>\n",
              "    <tr>\n",
              "      <th>581008</th>\n",
              "      <td>2391</td>\n",
              "      <td>152</td>\n",
              "      <td>19</td>\n",
              "      <td>67</td>\n",
              "      <td>12</td>\n",
              "      <td>95</td>\n",
              "      <td>240</td>\n",
              "      <td>237</td>\n",
              "      <td>119</td>\n",
              "      <td>845</td>\n",
              "      <td>...</td>\n",
              "      <td>0</td>\n",
              "      <td>0</td>\n",
              "      <td>0</td>\n",
              "      <td>0</td>\n",
              "      <td>0</td>\n",
              "      <td>0</td>\n",
              "      <td>0</td>\n",
              "      <td>1</td>\n",
              "      <td>0</td>\n",
              "      <td>3</td>\n",
              "    </tr>\n",
              "    <tr>\n",
              "      <th>581009</th>\n",
              "      <td>2386</td>\n",
              "      <td>159</td>\n",
              "      <td>17</td>\n",
              "      <td>60</td>\n",
              "      <td>7</td>\n",
              "      <td>90</td>\n",
              "      <td>236</td>\n",
              "      <td>241</td>\n",
              "      <td>130</td>\n",
              "      <td>854</td>\n",
              "      <td>...</td>\n",
              "      <td>0</td>\n",
              "      <td>0</td>\n",
              "      <td>0</td>\n",
              "      <td>0</td>\n",
              "      <td>0</td>\n",
              "      <td>0</td>\n",
              "      <td>0</td>\n",
              "      <td>1</td>\n",
              "      <td>0</td>\n",
              "      <td>3</td>\n",
              "    </tr>\n",
              "    <tr>\n",
              "      <th>581010</th>\n",
              "      <td>2384</td>\n",
              "      <td>170</td>\n",
              "      <td>15</td>\n",
              "      <td>60</td>\n",
              "      <td>5</td>\n",
              "      <td>90</td>\n",
              "      <td>230</td>\n",
              "      <td>245</td>\n",
              "      <td>143</td>\n",
              "      <td>864</td>\n",
              "      <td>...</td>\n",
              "      <td>0</td>\n",
              "      <td>0</td>\n",
              "      <td>0</td>\n",
              "      <td>0</td>\n",
              "      <td>0</td>\n",
              "      <td>0</td>\n",
              "      <td>0</td>\n",
              "      <td>1</td>\n",
              "      <td>0</td>\n",
              "      <td>3</td>\n",
              "    </tr>\n",
              "    <tr>\n",
              "      <th>581011</th>\n",
              "      <td>2383</td>\n",
              "      <td>165</td>\n",
              "      <td>13</td>\n",
              "      <td>60</td>\n",
              "      <td>4</td>\n",
              "      <td>67</td>\n",
              "      <td>231</td>\n",
              "      <td>244</td>\n",
              "      <td>141</td>\n",
              "      <td>875</td>\n",
              "      <td>...</td>\n",
              "      <td>0</td>\n",
              "      <td>0</td>\n",
              "      <td>0</td>\n",
              "      <td>0</td>\n",
              "      <td>0</td>\n",
              "      <td>0</td>\n",
              "      <td>0</td>\n",
              "      <td>1</td>\n",
              "      <td>0</td>\n",
              "      <td>3</td>\n",
              "    </tr>\n",
              "  </tbody>\n",
              "</table>\n",
              "<p>581012 rows × 55 columns</p>\n",
              "</div>"
            ],
            "text/plain": [
              "        Elevation  Aspect  Slope  Horizontal_Distance_To_Hydrology  \\\n",
              "0            2596      51      3                               258   \n",
              "1            2590      56      2                               212   \n",
              "2            2804     139      9                               268   \n",
              "3            2785     155     18                               242   \n",
              "4            2595      45      2                               153   \n",
              "...           ...     ...    ...                               ...   \n",
              "581007       2396     153     20                                85   \n",
              "581008       2391     152     19                                67   \n",
              "581009       2386     159     17                                60   \n",
              "581010       2384     170     15                                60   \n",
              "581011       2383     165     13                                60   \n",
              "\n",
              "        Vertical_Distance_To_Hydrology  Horizontal_Distance_To_Roadways  \\\n",
              "0                                    0                              510   \n",
              "1                                   -6                              390   \n",
              "2                                   65                             3180   \n",
              "3                                  118                             3090   \n",
              "4                                   -1                              391   \n",
              "...                                ...                              ...   \n",
              "581007                              17                              108   \n",
              "581008                              12                               95   \n",
              "581009                               7                               90   \n",
              "581010                               5                               90   \n",
              "581011                               4                               67   \n",
              "\n",
              "        Hillshade_9am  Hillshade_Noon  Hillshade_3pm  \\\n",
              "0                 221             232            148   \n",
              "1                 220             235            151   \n",
              "2                 234             238            135   \n",
              "3                 238             238            122   \n",
              "4                 220             234            150   \n",
              "...               ...             ...            ...   \n",
              "581007            240             237            118   \n",
              "581008            240             237            119   \n",
              "581009            236             241            130   \n",
              "581010            230             245            143   \n",
              "581011            231             244            141   \n",
              "\n",
              "        Horizontal_Distance_To_Fire_Points  ...  Soil_Type35  Soil_Type36  \\\n",
              "0                                     6279  ...            0            0   \n",
              "1                                     6225  ...            0            0   \n",
              "2                                     6121  ...            0            0   \n",
              "3                                     6211  ...            0            0   \n",
              "4                                     6172  ...            0            0   \n",
              "...                                    ...  ...          ...          ...   \n",
              "581007                                 837  ...            0            0   \n",
              "581008                                 845  ...            0            0   \n",
              "581009                                 854  ...            0            0   \n",
              "581010                                 864  ...            0            0   \n",
              "581011                                 875  ...            0            0   \n",
              "\n",
              "        Soil_Type37  Soil_Type38  Soil_Type39  Soil_Type40  Wilderness_Area2  \\\n",
              "0                 0            0            0            0                 0   \n",
              "1                 0            0            0            0                 0   \n",
              "2                 0            0            0            0                 0   \n",
              "3                 0            0            0            0                 0   \n",
              "4                 0            0            0            0                 0   \n",
              "...             ...          ...          ...          ...               ...   \n",
              "581007            0            0            0            0                 0   \n",
              "581008            0            0            0            0                 0   \n",
              "581009            0            0            0            0                 0   \n",
              "581010            0            0            0            0                 0   \n",
              "581011            0            0            0            0                 0   \n",
              "\n",
              "        Wilderness_Area3  Wilderness_Area4  Cover_Type  \n",
              "0                      0                 0           5  \n",
              "1                      0                 0           5  \n",
              "2                      0                 0           2  \n",
              "3                      0                 0           2  \n",
              "4                      0                 0           5  \n",
              "...                  ...               ...         ...  \n",
              "581007                 1                 0           3  \n",
              "581008                 1                 0           3  \n",
              "581009                 1                 0           3  \n",
              "581010                 1                 0           3  \n",
              "581011                 1                 0           3  \n",
              "\n",
              "[581012 rows x 55 columns]"
            ]
          },
          "execution_count": 130,
          "metadata": {},
          "output_type": "execute_result"
        }
      ],
      "source": [
        "# Membaca file CSV yang dikompresi\n",
        "df = pd.read_csv(\"compressed_data.csv.gz\", compression='gzip')\n",
        "df"
      ]
    },
    {
      "cell_type": "code",
      "execution_count": null,
      "metadata": {
        "id": "BZKm3_gQc23o"
      },
      "outputs": [],
      "source": [
        "# Pisahkan fitur dan target\n",
        "X = df.drop(columns=['Cover_Type']).values\n",
        "y = df['Cover_Type'].values\n"
      ]
    },
    {
      "cell_type": "code",
      "execution_count": null,
      "metadata": {
        "id": "U1UMTv58c23p"
      },
      "outputs": [],
      "source": [
        "# Ubah label dari [1-7] ke [0-6]\n",
        "y = y - 1"
      ]
    },
    {
      "cell_type": "code",
      "execution_count": null,
      "metadata": {
        "id": "GwkRU9gFc23p",
        "outputId": "74deff13-0657-40c9-fbdf-a6a9a0abf196"
      },
      "outputs": [
        {
          "name": "stdout",
          "output_type": "stream",
          "text": [
            "[0 1 2 3 4 5 6]\n"
          ]
        }
      ],
      "source": [
        "print(np.unique(y))"
      ]
    },
    {
      "cell_type": "code",
      "execution_count": null,
      "metadata": {
        "id": "_1Ysp5wGc23q"
      },
      "outputs": [],
      "source": [
        "# Normalisasi data\n",
        "scaler = StandardScaler()\n",
        "X = scaler.fit_transform(X)"
      ]
    },
    {
      "cell_type": "code",
      "execution_count": null,
      "metadata": {
        "id": "sqvhAu7Hc23r"
      },
      "outputs": [],
      "source": [
        "\n",
        "# Split data\n",
        "X_train, X_test, y_train, y_test = train_test_split(X, y, test_size=0.2, random_state=42)"
      ]
    },
    {
      "cell_type": "code",
      "execution_count": null,
      "metadata": {
        "id": "6Sn1h6qjc23r"
      },
      "outputs": [],
      "source": [
        "# Convert to tensors\n",
        "X_train_tensor = torch.tensor(X_train, dtype=torch.float32)\n",
        "y_train_tensor = torch.tensor(y_train, dtype=torch.long)\n",
        "X_test_tensor = torch.tensor(X_test, dtype=torch.float32)\n",
        "y_test_tensor = torch.tensor(y_test, dtype=torch.long)"
      ]
    },
    {
      "cell_type": "code",
      "execution_count": null,
      "metadata": {
        "id": "DgO3KzKuc23s"
      },
      "outputs": [],
      "source": [
        "# Dataset dan DataLoader\n",
        "train_dataset = TensorDataset(X_train_tensor, y_train_tensor)\n",
        "test_dataset = TensorDataset(X_test_tensor, y_test_tensor)\n",
        "train_loader = DataLoader(train_dataset, batch_size=64, shuffle=True)\n",
        "test_loader = DataLoader(test_dataset, batch_size=64, shuffle=False)\n"
      ]
    },
    {
      "cell_type": "markdown",
      "metadata": {
        "id": "OXT_yRQpc23t"
      },
      "source": [
        "# Model MLP PyTorch"
      ]
    },
    {
      "cell_type": "code",
      "execution_count": null,
      "metadata": {
        "id": "YCVzMWMEc23v"
      },
      "outputs": [],
      "source": [
        "# Definisikan Model MLP PyTorch\n",
        "class ImprovedMLP_PyTorch(nn.Module):\n",
        "    def __init__(self, input_dim, output_dim):\n",
        "        super(ImprovedMLP_PyTorch, self).__init__()\n",
        "        self.fc1 = nn.Linear(input_dim, 256)\n",
        "        self.bn1 = nn.BatchNorm1d(256)\n",
        "        self.relu = nn.ReLU()\n",
        "        self.dropout = nn.Dropout(0.3)\n",
        "        self.fc2 = nn.Linear(256, 128)\n",
        "        self.bn2 = nn.BatchNorm1d(128)\n",
        "        self.fc3 = nn.Linear(128, output_dim)\n",
        "\n",
        "    def forward(self, x):\n",
        "        x = self.dropout(self.relu(self.bn1(self.fc1(x))))\n",
        "        x = self.dropout(self.relu(self.bn2(self.fc2(x))))\n",
        "        x = self.fc3(x)\n",
        "        return x"
      ]
    },
    {
      "cell_type": "code",
      "execution_count": null,
      "metadata": {
        "id": "gwQuCmlxc23v"
      },
      "outputs": [],
      "source": [
        "# Inisialisasi model\n",
        "input_size = X.shape[1]\n",
        "output_size = 7  # Karena kita punya kelas 0-6\n",
        "model = ImprovedMLP_PyTorch(input_size, output_size)\n"
      ]
    },
    {
      "cell_type": "code",
      "execution_count": null,
      "metadata": {
        "id": "jwlcflUZc23w"
      },
      "outputs": [],
      "source": [
        "# Loss dan Optimizer\n",
        "criterion = nn.CrossEntropyLoss()\n",
        "optimizer = optim.Adam(model.parameters(), lr=0.001)"
      ]
    },
    {
      "cell_type": "code",
      "execution_count": null,
      "metadata": {
        "id": "J1RZT0c4c23w",
        "outputId": "1fb71ab1-d77f-40ca-f665-7ddc8d8101e5"
      },
      "outputs": [
        {
          "name": "stdout",
          "output_type": "stream",
          "text": [
            "Epoch 1/20, Loss: 0.6234\n",
            "Epoch 2/20, Loss: 0.5204\n",
            "Epoch 3/20, Loss: 0.4505\n",
            "Epoch 4/20, Loss: 0.4761\n",
            "Epoch 5/20, Loss: 0.5243\n",
            "Epoch 6/20, Loss: 0.3579\n",
            "Epoch 7/20, Loss: 0.3292\n",
            "Epoch 8/20, Loss: 0.6015\n",
            "Epoch 9/20, Loss: 0.6945\n",
            "Epoch 10/20, Loss: 0.5216\n",
            "Epoch 11/20, Loss: 0.5263\n",
            "Epoch 12/20, Loss: 0.5850\n",
            "Epoch 13/20, Loss: 0.5286\n",
            "Epoch 14/20, Loss: 0.4847\n",
            "Epoch 15/20, Loss: 0.5044\n",
            "Epoch 16/20, Loss: 0.3406\n",
            "Epoch 17/20, Loss: 0.4483\n",
            "Epoch 18/20, Loss: 0.5291\n",
            "Epoch 19/20, Loss: 0.4542\n",
            "Epoch 20/20, Loss: 0.6343\n"
          ]
        }
      ],
      "source": [
        "# Training loop\n",
        "epochs = 20\n",
        "for epoch in range(epochs):\n",
        "    model.train()\n",
        "    for batch_X, batch_y in train_loader:\n",
        "        optimizer.zero_grad()\n",
        "        outputs = model(batch_X)\n",
        "        loss = criterion(outputs, batch_y)\n",
        "        loss.backward()\n",
        "        optimizer.step()\n",
        "    print(f\"Epoch {epoch+1}/{epochs}, Loss: {loss.item():.4f}\")"
      ]
    },
    {
      "cell_type": "code",
      "execution_count": null,
      "metadata": {
        "id": "YG4cCfnSc23w"
      },
      "outputs": [],
      "source": [
        "# Evaluasi Model PyTorch\n",
        "model.eval()\n",
        "y_pred = []\n",
        "y_true = []\n",
        "y_scores = []\n",
        "with torch.no_grad():\n",
        "    for batch_X, batch_y in test_loader:\n",
        "        outputs = model(batch_X)\n",
        "        _, predicted = torch.max(outputs, 1)\n",
        "        y_pred.extend(predicted.numpy())\n",
        "        y_true.extend(batch_y.numpy())\n",
        "        y_scores.extend(torch.softmax(outputs, dim=1).numpy())"
      ]
    },
    {
      "cell_type": "code",
      "execution_count": null,
      "metadata": {
        "id": "bGyESvl7c23x",
        "outputId": "4f20161d-f5fc-46b1-b4d2-0a2a13c0e4f5"
      },
      "outputs": [
        {
          "name": "stdout",
          "output_type": "stream",
          "text": [
            "PyTorch Model - Akurasi: 0.8663\n",
            "PyTorch Model - Presisi: 0.8664\n",
            "PyTorch Model - Recall: 0.8663\n",
            "PyTorch Model - F1-score: 0.8650\n",
            "PyTorch Model - AUC-ROC: 0.9856\n"
          ]
        }
      ],
      "source": [
        "# Hitung metrik evaluasi PyTorch\n",
        "accuracy = accuracy_score(y_true, y_pred)\n",
        "precision = precision_score(y_true, y_pred, average='weighted')\n",
        "recall = recall_score(y_true, y_pred, average='weighted')\n",
        "f1 = f1_score(y_true, y_pred, average='weighted')\n",
        "auc = roc_auc_score(y_true, y_scores, multi_class='ovr')\n",
        "\n",
        "print(f\"PyTorch Model - Akurasi: {accuracy:.4f}\")\n",
        "print(f\"PyTorch Model - Presisi: {precision:.4f}\")\n",
        "print(f\"PyTorch Model - Recall: {recall:.4f}\")\n",
        "print(f\"PyTorch Model - F1-score: {f1:.4f}\")\n",
        "print(f\"PyTorch Model - AUC-ROC: {auc:.4f}\")"
      ]
    },
    {
      "cell_type": "code",
      "execution_count": null,
      "metadata": {
        "id": "dkRTrNtbc23x",
        "outputId": "dd88fe3f-b05e-4722-eb9e-404cd9574dde"
      },
      "outputs": [
        {
          "data": {
            "image/png": "[encoded data removed]",
            "text/plain": [
              "<Figure size 640x480 with 1 Axes>"
            ]
          },
          "metadata": {},
          "output_type": "display_data"
        }
      ],
      "source": [
        "# Plot ROC Curve PyTorch\n",
        "fpr, tpr, _ = roc_curve(y_true, np.array(y_scores)[:, 1], pos_label=1)\n",
        "plt.plot(fpr, tpr, label='PyTorch ROC Curve')\n",
        "plt.xlabel('False Positive Rate')\n",
        "plt.ylabel('True Positive Rate')\n",
        "plt.title('ROC Curve - PyTorch')\n",
        "plt.legend()\n",
        "plt.show()"
      ]
    },
    {
      "cell_type": "markdown",
      "metadata": {
        "id": "w70-yZNxc23y"
      },
      "source": [
        "# Model MLP TensorFlow"
      ]
    },
    {
      "cell_type": "code",
      "execution_count": null,
      "metadata": {
        "id": "zu6GChLNc23y",
        "outputId": "108f9127-5baa-4864-8073-cfdff0baed4c"
      },
      "outputs": [
        {
          "name": "stderr",
          "output_type": "stream",
          "text": [
            "C:\\Users\\Lenovo\\AppData\\Local\\Packages\\PythonSoftwareFoundation.Python.3.11_qbz5n2kfra8p0\\LocalCache\\local-packages\\Python311\\site-packages\\keras\\src\\layers\\core\\dense.py:87: UserWarning: Do not pass an `input_shape`/`input_dim` argument to a layer. When using Sequential models, prefer using an `Input(shape)` object as the first layer in the model instead.\n",
            "  super().__init__(activity_regularizer=activity_regularizer, **kwargs)\n"
          ]
        }
      ],
      "source": [
        "# Model MLP dengan TensorFlow/Keras\n",
        "model_tf = keras.Sequential([\n",
        "    keras.layers.Dense(256, activation='relu', input_shape=(input_size,)),\n",
        "    keras.layers.BatchNormalization(),\n",
        "    keras.layers.Dropout(0.3),\n",
        "    keras.layers.Dense(128, activation='relu'),\n",
        "    keras.layers.BatchNormalization(),\n",
        "    keras.layers.Dropout(0.3),\n",
        "    keras.layers.Dense(output_size, activation='softmax')\n",
        "])\n"
      ]
    },
    {
      "cell_type": "code",
      "execution_count": null,
      "metadata": {
        "id": "4XeactlNc23y"
      },
      "outputs": [],
      "source": [
        "# Compile model TensorFlow\n",
        "model_tf.compile(optimizer=keras.optimizers.Adam(learning_rate=0.001),\n",
        "                 loss='sparse_categorical_crossentropy',\n",
        "                 metrics=['accuracy'])\n"
      ]
    },
    {
      "cell_type": "code",
      "execution_count": null,
      "metadata": {
        "id": "kHHEf-C8c23y",
        "outputId": "3c6676aa-2fe3-4047-828e-b6d78e43299e"
      },
      "outputs": [
        {
          "name": "stdout",
          "output_type": "stream",
          "text": [
            "Epoch 1/20\n",
            "\u001b[1m7263/7263\u001b[0m \u001b[32m━━━━━━━━━━━━━━━━━━━━\u001b[0m\u001b[37m\u001b[0m \u001b[1m31s\u001b[0m 4ms/step - accuracy: 0.7011 - loss: 0.7586 - val_accuracy: 0.7837 - val_loss: 0.5013\n",
            "Epoch 2/20\n",
            "\u001b[1m7263/7263\u001b[0m \u001b[32m━━━━━━━━━━━━━━━━━━━━\u001b[0m\u001b[37m\u001b[0m \u001b[1m30s\u001b[0m 4ms/step - accuracy: 0.7700 - loss: 0.5325 - val_accuracy: 0.8146 - val_loss: 0.4466\n",
            "Epoch 3/20\n",
            "\u001b[1m7263/7263\u001b[0m \u001b[32m━━━━━━━━━━━━━━━━━━━━\u001b[0m\u001b[37m\u001b[0m \u001b[1m29s\u001b[0m 4ms/step - accuracy: 0.7870 - loss: 0.4954 - val_accuracy: 0.8305 - val_loss: 0.4162\n",
            "Epoch 4/20\n",
            "\u001b[1m7263/7263\u001b[0m \u001b[32m━━━━━━━━━━━━━━━━━━━━\u001b[0m\u001b[37m\u001b[0m \u001b[1m30s\u001b[0m 4ms/step - accuracy: 0.7987 - loss: 0.4714 - val_accuracy: 0.8372 - val_loss: 0.3988\n",
            "Epoch 5/20\n",
            "\u001b[1m7263/7263\u001b[0m \u001b[32m━━━━━━━━━━━━━━━━━━━━\u001b[0m\u001b[37m\u001b[0m \u001b[1m23s\u001b[0m 3ms/step - accuracy: 0.8062 - loss: 0.4565 - val_accuracy: 0.8475 - val_loss: 0.3910\n",
            "Epoch 6/20\n",
            "\u001b[1m7263/7263\u001b[0m \u001b[32m━━━━━━━━━━━━━━━━━━━━\u001b[0m\u001b[37m\u001b[0m \u001b[1m23s\u001b[0m 3ms/step - accuracy: 0.8112 - loss: 0.4445 - val_accuracy: 0.8518 - val_loss: 0.3810\n",
            "Epoch 7/20\n",
            "\u001b[1m7263/7263\u001b[0m \u001b[32m━━━━━━━━━━━━━━━━━━━━\u001b[0m\u001b[37m\u001b[0m \u001b[1m22s\u001b[0m 3ms/step - accuracy: 0.8147 - loss: 0.4374 - val_accuracy: 0.8515 - val_loss: 0.3721\n",
            "Epoch 8/20\n",
            "\u001b[1m7263/7263\u001b[0m \u001b[32m━━━━━━━━━━━━━━━━━━━━\u001b[0m\u001b[37m\u001b[0m \u001b[1m21s\u001b[0m 3ms/step - accuracy: 0.8188 - loss: 0.4283 - val_accuracy: 0.8584 - val_loss: 0.3613\n",
            "Epoch 9/20\n",
            "\u001b[1m7263/7263\u001b[0m \u001b[32m━━━━━━━━━━━━━━━━━━━━\u001b[0m\u001b[37m\u001b[0m \u001b[1m21s\u001b[0m 3ms/step - accuracy: 0.8207 - loss: 0.4266 - val_accuracy: 0.8604 - val_loss: 0.3612\n",
            "Epoch 10/20\n",
            "\u001b[1m7263/7263\u001b[0m \u001b[32m━━━━━━━━━━━━━━━━━━━━\u001b[0m\u001b[37m\u001b[0m \u001b[1m21s\u001b[0m 3ms/step - accuracy: 0.8241 - loss: 0.4180 - val_accuracy: 0.8631 - val_loss: 0.3405\n",
            "Epoch 11/20\n",
            "\u001b[1m7263/7263\u001b[0m \u001b[32m━━━━━━━━━━━━━━━━━━━━\u001b[0m\u001b[37m\u001b[0m \u001b[1m22s\u001b[0m 3ms/step - accuracy: 0.8270 - loss: 0.4123 - val_accuracy: 0.8675 - val_loss: 0.3498\n",
            "Epoch 12/20\n",
            "\u001b[1m7263/7263\u001b[0m \u001b[32m━━━━━━━━━━━━━━━━━━━━\u001b[0m\u001b[37m\u001b[0m \u001b[1m22s\u001b[0m 3ms/step - accuracy: 0.8270 - loss: 0.4109 - val_accuracy: 0.8667 - val_loss: 0.3450\n",
            "Epoch 13/20\n",
            "\u001b[1m7263/7263\u001b[0m \u001b[32m━━━━━━━━━━━━━━━━━━━━\u001b[0m\u001b[37m\u001b[0m \u001b[1m21s\u001b[0m 3ms/step - accuracy: 0.8294 - loss: 0.4063 - val_accuracy: 0.8707 - val_loss: 0.3389\n",
            "Epoch 14/20\n",
            "\u001b[1m7263/7263\u001b[0m \u001b[32m━━━━━━━━━━━━━━━━━━━━\u001b[0m\u001b[37m\u001b[0m \u001b[1m22s\u001b[0m 3ms/step - accuracy: 0.8322 - loss: 0.4014 - val_accuracy: 0.8702 - val_loss: 0.3505\n",
            "Epoch 15/20\n",
            "\u001b[1m7263/7263\u001b[0m \u001b[32m━━━━━━━━━━━━━━━━━━━━\u001b[0m\u001b[37m\u001b[0m \u001b[1m22s\u001b[0m 3ms/step - accuracy: 0.8323 - loss: 0.4012 - val_accuracy: 0.8351 - val_loss: 0.5055\n",
            "Epoch 16/20\n",
            "\u001b[1m7263/7263\u001b[0m \u001b[32m━━━━━━━━━━━━━━━━━━━━\u001b[0m\u001b[37m\u001b[0m \u001b[1m23s\u001b[0m 3ms/step - accuracy: 0.8344 - loss: 0.3977 - val_accuracy: 0.8738 - val_loss: 0.3389\n",
            "Epoch 17/20\n",
            "\u001b[1m7263/7263\u001b[0m \u001b[32m━━━━━━━━━━━━━━━━━━━━\u001b[0m\u001b[37m\u001b[0m \u001b[1m28s\u001b[0m 4ms/step - accuracy: 0.8345 - loss: 0.3959 - val_accuracy: 0.8753 - val_loss: 0.3340\n",
            "Epoch 18/20\n",
            "\u001b[1m7263/7263\u001b[0m \u001b[32m━━━━━━━━━━━━━━━━━━━━\u001b[0m\u001b[37m\u001b[0m \u001b[1m32s\u001b[0m 4ms/step - accuracy: 0.8384 - loss: 0.3925 - val_accuracy: 0.8758 - val_loss: 0.3385\n",
            "Epoch 19/20\n",
            "\u001b[1m7263/7263\u001b[0m \u001b[32m━━━━━━━━━━━━━━━━━━━━\u001b[0m\u001b[37m\u001b[0m \u001b[1m30s\u001b[0m 4ms/step - accuracy: 0.8361 - loss: 0.3931 - val_accuracy: 0.8762 - val_loss: 0.3468\n",
            "Epoch 20/20\n",
            "\u001b[1m7263/7263\u001b[0m \u001b[32m━━━━━━━━━━━━━━━━━━━━\u001b[0m\u001b[37m\u001b[0m \u001b[1m35s\u001b[0m 5ms/step - accuracy: 0.8374 - loss: 0.3900 - val_accuracy: 0.8788 - val_loss: 0.3396\n"
          ]
        }
      ],
      "source": [
        "# Train model TensorFlow\n",
        "history = model_tf.fit(X_train, y_train, epochs=20, batch_size=64, validation_data=(X_test, y_test))"
      ]
    },
    {
      "cell_type": "code",
      "execution_count": null,
      "metadata": {
        "id": "hHoagpI6c23z",
        "outputId": "a474fab1-92b1-4cee-e27c-dfd3dddacda2"
      },
      "outputs": [
        {
          "name": "stdout",
          "output_type": "stream",
          "text": [
            "\u001b[1m3632/3632\u001b[0m \u001b[32m━━━━━━━━━━━━━━━━━━━━\u001b[0m\u001b[37m\u001b[0m \u001b[1m4s\u001b[0m 1ms/step\n"
          ]
        }
      ],
      "source": [
        "# Evaluasi Model TensorFlow\n",
        "y_pred_tf = model_tf.predict(X_test)\n",
        "y_pred_labels = np.argmax(y_pred_tf, axis=1)"
      ]
    },
    {
      "cell_type": "code",
      "execution_count": null,
      "metadata": {
        "id": "YQCFJFmUc23z"
      },
      "outputs": [],
      "source": [
        "accuracy_tf = accuracy_score(y_test, y_pred_labels)\n",
        "precision_tf = precision_score(y_test, y_pred_labels, average='weighted')\n",
        "recall_tf = recall_score(y_test, y_pred_labels, average='weighted')\n",
        "f1_tf = f1_score(y_test, y_pred_labels, average='weighted')\n",
        "auc_tf = roc_auc_score(y_test, y_pred_tf, multi_class='ovr')"
      ]
    },
    {
      "cell_type": "code",
      "execution_count": null,
      "metadata": {
        "id": "433321bWc23z",
        "outputId": "22f0a784-136a-42ef-fa1a-cf0a4d7df035"
      },
      "outputs": [
        {
          "name": "stdout",
          "output_type": "stream",
          "text": [
            "TensorFlow Model - Akurasi: 0.8788\n",
            "TensorFlow Model - Presisi: 0.8794\n",
            "TensorFlow Model - Recall: 0.8788\n",
            "TensorFlow Model - F1-score: 0.8773\n",
            "TensorFlow Model - AUC-ROC: 0.9877\n"
          ]
        }
      ],
      "source": [
        "print(f\"TensorFlow Model - Akurasi: {accuracy_tf:.4f}\")\n",
        "print(f\"TensorFlow Model - Presisi: {precision_tf:.4f}\")\n",
        "print(f\"TensorFlow Model - Recall: {recall_tf:.4f}\")\n",
        "print(f\"TensorFlow Model - F1-score: {f1_tf:.4f}\")\n",
        "print(f\"TensorFlow Model - AUC-ROC: {auc_tf:.4f}\")"
      ]
    },
    {
      "cell_type": "code",
      "execution_count": null,
      "metadata": {
        "id": "Bz90VISpc230",
        "outputId": "3f8aaba1-a291-4520-dcdf-659a9ffd9f66"
      },
      "outputs": [
        {
          "data": {
            "image/png": "[encoded data removed]",
            "text/plain": [
              "<Figure size 640x480 with 1 Axes>"
            ]
          },
          "metadata": {},
          "output_type": "display_data"
        }
      ],
      "source": [
        "# Plot ROC Curve TensorFlow\n",
        "fpr_tf, tpr_tf, _ = roc_curve(y_test, y_pred_tf[:, 1], pos_label=1)\n",
        "plt.plot(fpr_tf, tpr_tf, label='TensorFlow ROC Curve')\n",
        "plt.xlabel('False Positive Rate')\n",
        "plt.ylabel('True Positive Rate')\n",
        "plt.title('ROC Curve - TensorFlow')\n",
        "plt.legend()\n",
        "plt.show()\n"
      ]
    },
    {
      "cell_type": "markdown",
      "metadata": {
        "id": "asWHM33mc230"
      },
      "source": [
        "# Model Deep Learning MLP (PyTorch dan TensorFlow)\n",
        "Kode di atas mengimplementasikan model Multi-Layer Perceptron (MLP) menggunakan dua framework deep learning: PyTorch dan TensorFlow. Model ini digunakan untuk mengklasifikasikan dataset dengan target `Cover_Type`, yang telah diubah agar memiliki label dari 0 hingga 6 (total 7 kelas).\n",
        "\n",
        "## Arsitektur Model\n",
        "### PyTorch Model (ImprovedMLP_PyTorch)\n",
        "- 3 Fully Connected Layers dengan jumlah neuron: **256 → 128 → output (7 kelas)**\n",
        "- **Batch Normalization** setelah setiap layer fully connected\n",
        "- **ReLU Activation** untuk menangani non-linearitas\n",
        "- **Dropout (30%)** untuk mencegah overfitting\n",
        "- **Softmax di output layer** (implicit dalam `CrossEntropyLoss`)\n",
        "\n",
        "### TensorFlow Model (`model_tf`)\n",
        "- Arsitektur yang sama dengan PyTorch, tetapi menggunakan Keras API\n",
        "- Menggunakan **Sparse Categorical Crossentropy** sebagai fungsi loss\n",
        "- **Optimizer**: Adam\n",
        "\n",
        "---\n",
        "\n",
        "## Matriks Evaluasi (Akurasi, Presisi, Recall, F1-score, AUC-ROC)\n",
        "Setelah model dilatih, dilakukan evaluasi menggunakan metrik berikut:\n",
        "\n",
        "| **Metrik**  | **Penjelasan**  |\n",
        "|-------------|----------------|\n",
        "| **Akurasi** | Proporsi prediksi yang benar dibandingkan total sampel. |\n",
        "| **Presisi** | Kemampuan model menghindari false positive. |\n",
        "| **Recall**  | Kemampuan model menangkap semua sampel positif yang benar. |\n",
        "| **F1-score** | Rata-rata harmonik antara presisi dan recall (mengatasi ketidakseimbangan kelas). |\n",
        "| **AUC-ROC** | Kemampuan model membedakan antara kelas positif dan negatif. |\n",
        "\n",
        "Hasil evaluasi dilakukan dengan `sklearn.metrics` baik untuk model PyTorch maupun TensorFlow.\n",
        "\n",
        "---\n",
        "\n",
        "## Penjelasan Persamaan Matematika\n",
        "Berikut adalah persamaan yang digunakan dalam model:\n",
        "\n",
        "### Fungsi Aktivasi ReLU\n",
        "$$\n",
        "f(x) = \\max(0, x)\n",
        "$$\n",
        "Digunakan untuk menghilangkan efek **vanishing gradient**.\n",
        "\n",
        "### Fungsi Softmax (Output Layer)\n",
        "$$\n",
        "P(y_i) = \\frac{e^{z_i}}{\\sum_{j=1}^{n} e^{z_j}}\n",
        "$$\n",
        "Mengubah output menjadi **probabilitas** untuk setiap kelas.\n",
        "\n",
        "### Cross-Entropy Loss (Keras & PyTorch)\n",
        "$$\n",
        "L = - \\sum_{i=1}^{N} y_i \\log(\\hat{y_i})\n",
        "$$\n",
        "Digunakan untuk mengukur seberapa baik model **memprediksi kelas target**.\n",
        "\n",
        "### F1-Score\n",
        "$$\n",
        "F1 = 2 \\times \\frac{\\text{Presisi} \\times \\text{Recall}}{\\text{Presisi} + \\text{Recall}}\n",
        "$$\n",
        "Kombinasi dari **Presisi dan Recall** untuk mengatasi ketidakseimbangan kelas.\n",
        "\n",
        "### ROC Curve & AUC\n",
        "- **False Positive Rate (FPR):**\n",
        "  $$\n",
        "  \\text{FPR} = \\frac{FP}{FP + TN}\n",
        "  $$\n",
        "- **True Positive Rate (TPR) atau Recall:**\n",
        "  $$\n",
        "  \\text{TPR} = \\frac{TP}{TP + FN}\n",
        "  $$\n",
        "\n",
        "\n",
        "ROC Curve diplot dengan `sklearn.metrics.roc_curve` dan `auc_score`.\n",
        "\n",
        "---\n",
        "\n",
        "# Perbandingan Performa Model MLP (PyTorch vs TensorFlow)\n",
        "\n",
        "Berikut perbandingan performa model **MLP PyTorch** dan **MLP TensorFlow** berdasarkan metrik evaluasi:  \n",
        "\n",
        "| Metrik       | **MLP PyTorch** | **MLP TensorFlow** |\n",
        "|-------------|---------------|-----------------|\n",
        "| **Akurasi** | 0.8765        | 0.8788          |\n",
        "| **Presisi** | 0.8770        | 0.8794          |\n",
        "| **Recall**  | 0.8765        | 0.8788          |\n",
        "| **F1-score** | 0.8750        | 0.8773          |\n",
        "| **AUC-ROC** | 0.9853        | 0.9877          |\n",
        "\n",
        "## **Analisis Perbandingan**\n",
        "- Kedua model memiliki **performa yang hampir serupa**, dengan perbedaan kecil pada setiap metrik.\n",
        "- **MLP TensorFlow sedikit lebih unggul** dalam semua metrik evaluasi, terutama pada **Akurasi (+0.0023) dan AUC-ROC (+0.0024)**.\n",
        "- Performa yang mirip menunjukkan bahwa **arsitektur model sudah optimal**, dan perbedaan bisa disebabkan oleh perbedaan implementasi framework dalam **optimasi dan regularisasi**.\n",
        "- **AUC-ROC di atas 0.98** menunjukkan bahwa model sangat baik dalam membedakan kelas yang berbeda.\n",
        "\n",
        "## **Kesimpulan**\n",
        "- Jika memilih antara **MLP PyTorch vs MLP TensorFlow**, **TensorFlow lebih unggul secara performa**.\n",
        "- Jika mempertimbangkan fleksibilitas dalam **eksperimen model** dan **kontrol yang lebih dalam**, **PyTorch tetap pilihan yang baik**.\n",
        "\n"
      ]
    },
    {
      "cell_type": "markdown",
      "metadata": {
        "id": "v-yt-wHPc231"
      },
      "source": []
    }
  ],
  "metadata": {
    "kernelspec": {
      "display_name": "Python 3",
      "language": "python",
      "name": "python3"
    },
    "language_info": {
      "codemirror_mode": {
        "name": "ipython",
        "version": 3
      },
      "file_extension": ".py",
      "mimetype": "text/x-python",
      "name": "python",
      "nbconvert_exporter": "python",
      "pygments_lexer": "ipython3",
      "version": "3.11.9"
    },
    "colab": {
      "provenance": []
    }
  },
  "nbformat": 4,
  "nbformat_minor": 0
}